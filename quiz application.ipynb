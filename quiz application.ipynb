{
 "cells": [
  {
   "cell_type": "code",
   "execution_count": 1,
   "id": "25447d4f",
   "metadata": {},
   "outputs": [
    {
     "name": "stdout",
     "output_type": "stream",
     "text": [
      "What is the capital of France?\n",
      "A) London\n",
      "B) Berlin\n",
      "C) Paris\n",
      "D) Madrid\n",
      "Enter your answer (A, B, C, or D): A\n",
      "Incorrect. The correct answer was C\n",
      "\n",
      "Which planet is known as the Red Planet?\n",
      "A) Earth\n",
      "B) Mars\n",
      "C) Jupiter\n",
      "D) Venus\n",
      "Enter your answer (A, B, C, or D): B\n",
      "Correct!\n",
      "\n",
      "What is 5 + 7?\n",
      "A) 10\n",
      "B) 12\n",
      "C) 14\n",
      "D) 15\n",
      "Enter your answer (A, B, C, or D): B\n",
      "Correct!\n",
      "\n",
      "Who wrote 'To Kill a Mockingbird'?\n",
      "A) Harper Lee\n",
      "B) J.K. Rowling\n",
      "C) Mark Twain\n",
      "D) Ernest Hemingway\n",
      "Enter your answer (A, B, C, or D): B\n",
      "Incorrect. The correct answer was A\n",
      "\n",
      "Quiz Over! Your final score: 2/4\n"
     ]
    }
   ],
   "source": [
    "def run_quiz():\n",
    "    questions = [\n",
    "        {\"question\": \"What is the capital of France?\", \"options\": [\"A) London\", \"B) Berlin\", \"C) Paris\", \"D) Madrid\"], \"answer\": \"C\"},\n",
    "        {\"question\": \"Which planet is known as the Red Planet?\", \"options\": [\"A) Earth\", \"B) Mars\", \"C) Jupiter\", \"D) Venus\"], \"answer\": \"B\"},\n",
    "        {\"question\": \"What is 5 + 7?\", \"options\": [\"A) 10\", \"B) 12\", \"C) 14\", \"D) 15\"], \"answer\": \"B\"},\n",
    "        {\"question\": \"Who wrote 'To Kill a Mockingbird'?\", \"options\": [\"A) Harper Lee\", \"B) J.K. Rowling\", \"C) Mark Twain\", \"D) Ernest Hemingway\"], \"answer\": \"A\"}\n",
    "    ]\n",
    "\n",
    "    score = 0\n",
    "\n",
    "    for q in questions:\n",
    "        print(q[\"question\"])\n",
    "        for option in q[\"options\"]:\n",
    "            print(option)\n",
    "\n",
    "        answer = input(\"Enter your answer (A, B, C, or D): \").strip().upper()\n",
    "\n",
    "        if answer == q[\"answer\"]:\n",
    "            print(\"Correct!\\n\")\n",
    "            score += 1\n",
    "        else:\n",
    "            print(f\"Incorrect. The correct answer was {q['answer']}\\n\")\n",
    "\n",
    "    print(f\"Quiz Over! Your final score: {score}/{len(questions)}\")\n",
    "\n",
    "run_quiz()\n"
   ]
  },
  {
   "cell_type": "code",
   "execution_count": null,
   "id": "c35dce64",
   "metadata": {},
   "outputs": [],
   "source": []
  }
 ],
 "metadata": {
  "kernelspec": {
   "display_name": "Python 3 (ipykernel)",
   "language": "python",
   "name": "python3"
  },
  "language_info": {
   "codemirror_mode": {
    "name": "ipython",
    "version": 3
   },
   "file_extension": ".py",
   "mimetype": "text/x-python",
   "name": "python",
   "nbconvert_exporter": "python",
   "pygments_lexer": "ipython3",
   "version": "3.11.5"
  }
 },
 "nbformat": 4,
 "nbformat_minor": 5
}
